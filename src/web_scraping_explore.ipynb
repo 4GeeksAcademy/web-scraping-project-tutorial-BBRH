{
    "cells": [
        {
            "cell_type": "markdown",
            "metadata": {},
            "source": [
                "# Web Scraping Explore\n",
                "\n",
                "Se extraera información de una página web dedicada a catalogar exoplanetas:"
            ]
        },
        {
            "cell_type": "code",
            "execution_count": 3,
            "metadata": {},
            "outputs": [],
            "source": [
                "import os\n",
                "from bs4 import BeautifulSoup\n",
                "import requests\n",
                "import time\n",
                "import sqlite3\n",
                "import matplotlib.pyplot as plt\n",
                "import seaborn as sns\n",
                "\n",
                "\n",
                "# Seleccionar el recurso a descargar\n",
                "resource_url = \"https://science.nasa.gov/exoplanets/exoplanet-catalog/\"\n",
                "\n",
                "# Petición para descargar el fichero de Internet\n",
                "response = requests.get(resource_url, time.sleep(10))\n",
                "\n",
                "# Si la petición se ha ejecutado correctamente (código 200), entonces el contenido HTML de la página se ha podido descargar\n",
                "if response:\n",
                "    # Transformamos el HTML plano en un HTML real (estructurado y anidado, con forma de árbol)\n",
                "    soup = BeautifulSoup(response.text, 'html')\n",
                "    soup\n"
            ]
        }
    ],
    "metadata": {
        "kernelspec": {
            "display_name": "Python 3",
            "language": "python",
            "name": "python3"
        },
        "language_info": {
            "codemirror_mode": {
                "name": "ipython",
                "version": 3
            },
            "file_extension": ".py",
            "mimetype": "text/x-python",
            "name": "python",
            "nbconvert_exporter": "python",
            "pygments_lexer": "ipython3",
            "version": "3.11.4"
        },
        "orig_nbformat": 4
    },
    "nbformat": 4,
    "nbformat_minor": 2
}
