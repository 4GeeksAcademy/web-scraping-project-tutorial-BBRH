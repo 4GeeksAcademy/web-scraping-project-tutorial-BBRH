{
    "cells": [
        {
            "cell_type": "markdown",
            "metadata": {},
            "source": [
                "# Web Scraping Explore\n",
                "\n",
                "Se extraera información de una página web dedicada a catalogar exoplanetas:"
            ]
        },
        {
            "cell_type": "code",
            "execution_count": 14,
            "metadata": {},
            "outputs": [],
            "source": [
                "import os\n",
                "from bs4 import BeautifulSoup\n",
                "import requests\n",
                "import time\n",
                "import sqlite3\n",
                "import matplotlib.pyplot as plt\n",
                "import seaborn as sns\n",
                "\n",
                "\n",
                "# Seleccionar el recurso a descargar\n",
                "resource_url = \"https://science.nasa.gov/exoplanets/exoplanet-catalog/\"\n",
                "\n",
                "# Petición para descargar el fichero de Internet\n",
                "response = requests.get(resource_url, time.sleep(10))\n",
                "\n",
                "# Si la petición se ha ejecutado correctamente (código 200), entonces el contenido HTML de la página se ha podido descargar\n",
                "if response:\n",
                "    # Transformamos el HTML plano en un HTML real (estructurado y anidado, con forma de árbol)\n",
                "    soup = BeautifulSoup(response.text, 'html')\n",
                "    soup\n"
            ]
        },
        {
            "cell_type": "code",
            "execution_count": 15,
            "metadata": {},
            "outputs": [
                {
                    "data": {
                        "text/plain": [
                            "<Response [200]>"
                        ]
                    },
                    "execution_count": 15,
                    "metadata": {},
                    "output_type": "execute_result"
                }
            ],
            "source": [
                "# Se verifica response\n",
                "response"
            ]
        },
        {
            "cell_type": "code",
            "execution_count": 16,
            "metadata": {},
            "outputs": [
                {
                    "data": {
                        "text/plain": [
                            "[<div class=\"hds-a11y-heading-22\">TOI-6695 c</div>,\n",
                            " <div class=\"hds-a11y-heading-22\">Kepler-139 f</div>,\n",
                            " <div class=\"hds-a11y-heading-22\">AT2021ueyL b</div>,\n",
                            " <div class=\"hds-a11y-heading-22\">KMT-2017-BLG-2197L b</div>,\n",
                            " <div class=\"hds-a11y-heading-22\">KMT-2022-BLG-2076L b</div>,\n",
                            " <div class=\"hds-a11y-heading-22\">ZTF J1828+2308 b</div>,\n",
                            " <div class=\"hds-a11y-heading-22\">KMT-2022-BLG-1790L b</div>,\n",
                            " <div class=\"hds-a11y-heading-22\">KMT-2023-BLG-2209L b</div>,\n",
                            " <div class=\"hds-a11y-heading-22\">GJ 1289 b</div>,\n",
                            " <div class=\"hds-a11y-heading-22\">TOI-1453 b</div>,\n",
                            " <div class=\"hds-a11y-heading-22\">TOI-1453 c</div>,\n",
                            " <div class=\"hds-a11y-heading-22\">TOI-7041 b</div>,\n",
                            " <div class=\"hds-a11y-heading-22\">TOI-5143 c</div>,\n",
                            " <div class=\"hds-a11y-heading-22\">TOI-4364 b</div>,\n",
                            " <div class=\"hds-a11y-heading-22\">KOI-1843.03</div>]"
                        ]
                    },
                    "execution_count": 16,
                    "metadata": {},
                    "output_type": "execute_result"
                }
            ],
            "source": [
                "# Se encuentran los contenedores de la información\n",
                "soup.find_all(\"div\", class_=\"hds-a11y-heading-22\")"
            ]
        },
        {
            "cell_type": "code",
            "execution_count": null,
            "metadata": {},
            "outputs": [
                {
                    "name": "stdout",
                    "output_type": "stream",
                    "text": [
                        "[{'Parsecs from Earth:': '282.536'}, {'Planet Mass:': '1.45 Jupiters'}, {'Stellar Magnitude:': '10.768'}, {'Discovery Date:': '2025'}, {'Parsecs from Earth:': '391.038'}, {'Planet Mass:': '36 Earths'}, {'Stellar Magnitude:': '12.775'}, {'Discovery Date:': '2025'}, {'Parsecs from Earth:': '1040'}, {'Planet Mass:': '1.34 Jupiters'}, {'Stellar Magnitude:': 'Unknown'}, {'Discovery Date:': '2025'}, {'Parsecs from Earth:': '7800'}, {'Planet Mass:': '8.84 Jupiters'}, {'Stellar Magnitude:': 'Unknown'}, {'Discovery Date:': '2025'}, {'Parsecs from Earth:': '5570'}, {'Planet Mass:': '0.88 Jupiters'}, {'Stellar Magnitude:': 'Unknown'}, {'Discovery Date:': '2025'}, {'Parsecs from Earth:': '201.827'}, {'Planet Mass:': '20 Jupiters'}, {'Stellar Magnitude:': '18.0447'}, {'Discovery Date:': '2025'}, {'Parsecs from Earth:': '6480'}, {'Planet Mass:': '1.73 Jupiters'}, {'Stellar Magnitude:': 'Unknown'}, {'Discovery Date:': '2025'}, {'Parsecs from Earth:': '5570'}, {'Planet Mass:': '0.8 Jupiters'}, {'Stellar Magnitude:': 'Unknown'}, {'Discovery Date:': '2025'}, {'Parsecs from Earth:': '8.35147'}, {'Planet Mass:': '6.27 Earths'}, {'Stellar Magnitude:': '12.48'}, {'Discovery Date:': '2024'}, {'Parsecs from Earth:': '78.7415'}, {'Planet Mass:': '2.32 Earths'}, {'Stellar Magnitude:': '11.113'}, {'Discovery Date:': '2025'}, {'Parsecs from Earth:': '78.7415'}, {'Planet Mass:': '2.95 Earths'}, {'Stellar Magnitude:': '11.113'}, {'Discovery Date:': '2025'}, {'Parsecs from Earth:': '439.52'}, {'Planet Mass:': '0.36 Jupiters'}, {'Stellar Magnitude:': '11.251'}, {'Discovery Date:': '2025'}, {'Parsecs from Earth:': '181.38'}, {'Planet Mass:': 'Unknown'}, {'Stellar Magnitude:': '11.935'}, {'Discovery Date:': '2025'}, {'Parsecs from Earth:': '43.9662'}, {'Planet Mass:': '4.7 Earths'}, {'Stellar Magnitude:': '13.564'}, {'Discovery Date:': '2025'}, {'Parsecs from Earth:': '134.311'}, {'Planet Mass:': '8 Earths'}, {'Stellar Magnitude:': '15.295'}, {'Discovery Date:': '2013'}]\n"
                    ]
                }
            ],
            "source": [
                "# all_stellar_magnitude = soup.find_all(\"div\", class_=\"CustomField\")\n",
                "# print(all_stellar_magnitude)\n",
                "\n",
                "items = soup.find_all('div', class_= 'CustomField')\n",
                "#print(items)\n",
                "\n",
                "indicador = []\n",
                "valor = []\n",
                "\n",
                "# def find_value_and_indicator():\n",
                "#     val_i = tem_d.find('span', string=lambda t: t and 'Stellar Magnitude:' in t)\n",
                "\n",
                "\n",
                "    ##Ciclo for para tomar todos los indicadores\n",
                "for item in items:\n",
                "    tem_d = item.find('div', class_=False)\n",
                "    #print(tem_d)\n",
                "    #tem_v = tem_d.find('span', string=lambda t: t and 'Stellar Magnitude:' in t)\n",
                "    # tem_v = tem_d.find('span', class_='font-weight-bold')\n",
                "    # tem_valor = tem_d.find('span', class_=False).text.strip()\n",
                "    #val_sm = tem_d.find('span', string=lambda t: t and 'Stellar Magnitude:' in t)\n",
                "    tag_c = tem_d.find('span', class_=\"font-weight-bold\")\n",
                "    val_name = tag_c.text.strip()\n",
                "    val_value = tag_c.find_next('span').text.strip()\n",
                "    obj = {}\n",
                "    if val_name == 'Stellar Magnitude:':\n",
                "        obj[val_name] = val_value\n",
                "    if val_name == 'Stellar Magnitude:':\n",
                "        obj[val_name] = val_value\n",
                "    # val_pm = tem_v = tem_d.find('span', string=lambda t: t and 'Planet Mass:' in t)\n",
                "    # val_pe = tem_v = tem_d.find('span', string=lambda t: t and 'Parsecs from Earth:' in t)\n",
                "    # val_dd = tem_v = tem_d.find('span', string=lambda t: t and 'Discovery Date:' in t) \n",
                "\n",
                "    # if tem_d and val_sm:\n",
                "    #     team_valor = tem_d.find('span', class_=False).text.strip()\n",
                "    #     valor.append({\n",
                "    #         #\"Name's Exoplanet\" : val.text,\n",
                "    #         val_sm : team_valor,\n",
                "    #         \"Planet Mass\": 0,\n",
                "    #         \"Parsecs from Earth\" : 0, \n",
                "    #         \"Discovery Date\": 0\n",
                "    #     })\n",
                "    \n",
                "    # if tem_v != None:\n",
                "    #     tem_valor = tem_d.find('span', class_=False).text.strip()\n",
                "    #     if tem_valor != 'Unknown':\n",
                "    #         valor.append({\n",
                "    #             \"Name's Exoplanet\" : tem_v.text,\n",
                "    #             \"Stellar Magnitude\" : tem_valor,\n",
                "    #             \"Planet Mass\": 20,\n",
                "    #             \"Parsecs from Earth\" : tem_valor, \n",
                "    #             \"Discovery Date\": 2025\n",
                "    #         })\n",
                "    #     else:\n",
                "    #         valor.append({\n",
                "    #             \"Name's Exoplanet\" : tem_valor,\n",
                "    #             \"Stellar Magnitude\" : 0,\n",
                "    #             \"Planet Mass\": 20,\n",
                "    #             \"Parsecs from Earth\" : tem_valor, \n",
                "    #             \"Discovery Date\": 2025\n",
                "    #         })\n",
                "\n",
                "print(valor)"
            ]
        },
        {
            "cell_type": "code",
            "execution_count": 69,
            "metadata": {},
            "outputs": [],
            "source": [
                "#valor"
            ]
        },
        {
            "cell_type": "code",
            "execution_count": 39,
            "metadata": {},
            "outputs": [
                {
                    "data": {
                        "text/plain": [
                            "'Kepler-139 f'"
                        ]
                    },
                    "execution_count": 39,
                    "metadata": {},
                    "output_type": "execute_result"
                }
            ],
            "source": [
                "soup.find_all(\"div\", class_=\"hds-a11y-heading-22\")[1].text"
            ]
        },
        {
            "cell_type": "code",
            "execution_count": null,
            "metadata": {},
            "outputs": [],
            "source": []
        }
    ],
    "metadata": {
        "kernelspec": {
            "display_name": "Python 3",
            "language": "python",
            "name": "python3"
        },
        "language_info": {
            "codemirror_mode": {
                "name": "ipython",
                "version": 3
            },
            "file_extension": ".py",
            "mimetype": "text/x-python",
            "name": "python",
            "nbconvert_exporter": "python",
            "pygments_lexer": "ipython3",
            "version": "3.11.4"
        },
        "orig_nbformat": 4
    },
    "nbformat": 4,
    "nbformat_minor": 2
}
