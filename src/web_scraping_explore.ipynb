{
    "cells": [
        {
            "cell_type": "markdown",
            "metadata": {},
            "source": [
                "# Web Scraping Explore\n",
                "\n",
                "Se extraera información de una página web dedicada a catalogar exoplanetas:"
            ]
        },
        {
            "cell_type": "code",
            "execution_count": 2,
            "metadata": {},
            "outputs": [],
            "source": [
                "import os\n",
                "from bs4 import BeautifulSoup\n",
                "import requests\n",
                "import time\n",
                "import sqlite3\n",
                "import matplotlib.pyplot as plt\n",
                "import seaborn as sns\n",
                "\n",
                "\n",
                "# Seleccionar el recurso a descargar\n",
                "resource_url = \"https://science.nasa.gov/exoplanets/exoplanet-catalog/\"\n",
                "\n",
                "# Petición para descargar el fichero de Internet\n",
                "response = requests.get(resource_url, time.sleep(10))\n",
                "\n",
                "# Si la petición se ha ejecutado correctamente (código 200), entonces el contenido HTML de la página se ha podido descargar\n",
                "if response:\n",
                "    # Transformamos el HTML plano en un HTML real (estructurado y anidado, con forma de árbol)\n",
                "    soup = BeautifulSoup(response.text, 'html')\n",
                "    soup\n"
            ]
        },
        {
            "cell_type": "code",
            "execution_count": 3,
            "metadata": {},
            "outputs": [
                {
                    "data": {
                        "text/plain": [
                            "<Response [200]>"
                        ]
                    },
                    "execution_count": 3,
                    "metadata": {},
                    "output_type": "execute_result"
                }
            ],
            "source": [
                "# Se verifica response\n",
                "response"
            ]
        },
        {
            "cell_type": "code",
            "execution_count": 4,
            "metadata": {},
            "outputs": [
                {
                    "data": {
                        "text/plain": [
                            "[<div class=\"hds-a11y-heading-22\">TOI-6695 c</div>,\n",
                            " <div class=\"hds-a11y-heading-22\">Kepler-139 f</div>,\n",
                            " <div class=\"hds-a11y-heading-22\">AT2021ueyL b</div>,\n",
                            " <div class=\"hds-a11y-heading-22\">KMT-2017-BLG-2197L b</div>,\n",
                            " <div class=\"hds-a11y-heading-22\">KMT-2022-BLG-2076L b</div>,\n",
                            " <div class=\"hds-a11y-heading-22\">ZTF J1828+2308 b</div>,\n",
                            " <div class=\"hds-a11y-heading-22\">KMT-2022-BLG-1790L b</div>,\n",
                            " <div class=\"hds-a11y-heading-22\">KMT-2023-BLG-2209L b</div>,\n",
                            " <div class=\"hds-a11y-heading-22\">GJ 1289 b</div>,\n",
                            " <div class=\"hds-a11y-heading-22\">TOI-1453 b</div>,\n",
                            " <div class=\"hds-a11y-heading-22\">TOI-1453 c</div>,\n",
                            " <div class=\"hds-a11y-heading-22\">TOI-7041 b</div>,\n",
                            " <div class=\"hds-a11y-heading-22\">TOI-5143 c</div>,\n",
                            " <div class=\"hds-a11y-heading-22\">TOI-4364 b</div>,\n",
                            " <div class=\"hds-a11y-heading-22\">KOI-1843.03</div>]"
                        ]
                    },
                    "execution_count": 4,
                    "metadata": {},
                    "output_type": "execute_result"
                }
            ],
            "source": [
                "# Se encuentran los contenedores de la información\n",
                "soup.find_all(\"div\", class_=\"hds-a11y-heading-22\")"
            ]
        },
        {
            "cell_type": "code",
            "execution_count": 96,
            "metadata": {},
            "outputs": [
                {
                    "name": "stdout",
                    "output_type": "stream",
                    "text": [
                        "15\n",
                        "15\n",
                        "[{\"Exoplanet's name:\": 'TOI-6695 c', 'Parsecs from Earth:': '134.311', 'Planet Mass:': '8 Earths', 'Stellar Magnitude:': '15.295', 'Discovery Date:': '2013'}, {\"Exoplanet's name:\": 'Kepler-139 f', 'Parsecs from Earth:': '134.311', 'Planet Mass:': '8 Earths', 'Stellar Magnitude:': '15.295', 'Discovery Date:': '2013'}, {\"Exoplanet's name:\": 'AT2021ueyL b', 'Parsecs from Earth:': '134.311', 'Planet Mass:': '8 Earths', 'Stellar Magnitude:': '15.295', 'Discovery Date:': '2013'}, {\"Exoplanet's name:\": 'KMT-2017-BLG-2197L b', 'Parsecs from Earth:': '134.311', 'Planet Mass:': '8 Earths', 'Stellar Magnitude:': '15.295', 'Discovery Date:': '2013'}, {\"Exoplanet's name:\": 'KMT-2022-BLG-2076L b', 'Parsecs from Earth:': '134.311', 'Planet Mass:': '8 Earths', 'Stellar Magnitude:': '15.295', 'Discovery Date:': '2013'}, {\"Exoplanet's name:\": 'ZTF J1828+2308 b', 'Parsecs from Earth:': '134.311', 'Planet Mass:': '8 Earths', 'Stellar Magnitude:': '15.295', 'Discovery Date:': '2013'}, {\"Exoplanet's name:\": 'KMT-2022-BLG-1790L b', 'Parsecs from Earth:': '134.311', 'Planet Mass:': '8 Earths', 'Stellar Magnitude:': '15.295', 'Discovery Date:': '2013'}, {\"Exoplanet's name:\": 'KMT-2023-BLG-2209L b', 'Parsecs from Earth:': '134.311', 'Planet Mass:': '8 Earths', 'Stellar Magnitude:': '15.295', 'Discovery Date:': '2013'}, {\"Exoplanet's name:\": 'GJ 1289 b', 'Parsecs from Earth:': '134.311', 'Planet Mass:': '8 Earths', 'Stellar Magnitude:': '15.295', 'Discovery Date:': '2013'}, {\"Exoplanet's name:\": 'TOI-1453 b', 'Parsecs from Earth:': '134.311', 'Planet Mass:': '8 Earths', 'Stellar Magnitude:': '15.295', 'Discovery Date:': '2013'}, {\"Exoplanet's name:\": 'TOI-1453 c', 'Parsecs from Earth:': '134.311', 'Planet Mass:': '8 Earths', 'Stellar Magnitude:': '15.295', 'Discovery Date:': '2013'}, {\"Exoplanet's name:\": 'TOI-7041 b', 'Parsecs from Earth:': '134.311', 'Planet Mass:': '8 Earths', 'Stellar Magnitude:': '15.295', 'Discovery Date:': '2013'}, {\"Exoplanet's name:\": 'TOI-5143 c', 'Parsecs from Earth:': '134.311', 'Planet Mass:': '8 Earths', 'Stellar Magnitude:': '15.295', 'Discovery Date:': '2013'}, {\"Exoplanet's name:\": 'TOI-4364 b', 'Parsecs from Earth:': '134.311', 'Planet Mass:': '8 Earths', 'Stellar Magnitude:': '15.295', 'Discovery Date:': '2013'}, {\"Exoplanet's name:\": 'KOI-1843.03'}]\n"
                    ]
                }
            ],
            "source": [
                "exo_cards = soup.find_all('div', class_='hds-content-item content-list-item-exoplanet')\n",
                "print(len(exo_cards))\n",
                "valor = []\n",
                "names = []\n",
                "for item in exo_cards:\n",
                "    exo_obj = {}\n",
                "    #print(item)\n",
                "    exo_link = item.find('a', class_= 'hds-content-item-heading')\n",
                "    #print(exo_link)\n",
                "    exo_name = exo_link.find_next('div').text.strip()\n",
                "    exo_obj[\"Exoplanet's name:\"] = exo_name\n",
                "    names.append(exo_name)\n",
                "    exo_box_field = exo_link.find_all_next('div', class_= 'hds-content-item-inner')\n",
                "    # print(len(exo_box_field))\n",
                "    for field in exo_box_field:\n",
                "        exo_all_tags = field.find_all_next('div', class_=\"CustomField\")\n",
                "        for field_tag in exo_all_tags:\n",
                "            #print(field_tag)\n",
                "            exo_tag_field = field_tag.find('span', class_= 'font-weight-bold')\n",
                "            exo_field = exo_tag_field.text.strip()\n",
                "            exo_value = exo_tag_field.find_next('span').text.strip()\n",
                "            exo_obj[exo_field] = exo_value\n",
                "    valor.append(exo_obj)\n",
                "print(len(valor))\n",
                "        \n",
                "        \n",
                "    #exo_fields = exo_box_field.find_all_next('div', class_=\"CustomField\")\n",
                "    #print(exo_fields)\n",
                "    # for field in exo_fields:\n",
                "    #     #print(field)\n",
                "    #     exo_obj = {\n",
                "    #             \"Exoplanet's name:\": exo_name,\n",
                "    #         }\n",
                "    #     exo_tag_field = item.find('span', class_= 'font-weight-bold')\n",
                "    #     exo_field = exo_tag_field.text.strip()\n",
                "    #     exo_value = exo_tag_field.find_next('span').text.strip()\n",
                "    #     exo_obj[exo_field] = exo_value\n",
                "    #     valor.append(exo_obj)\n",
                "print(valor)\n",
                "#print(names)"
            ]
        },
        {
            "cell_type": "code",
            "execution_count": null,
            "metadata": {},
            "outputs": [
                {
                    "name": "stdout",
                    "output_type": "stream",
                    "text": [
                        "<div class=\"hds-content-item-inner\">\n",
                        "<a class=\"hds-content-item-heading\" href=\"https://science.nasa.gov/exoplanet-catalog/kepler-139-f/\">\n",
                        "<div class=\"hds-a11y-heading-22\">Kepler-139 f</div>\n",
                        "</a>\n",
                        "<div class=\"CustomField\">\n",
                        "<div>\n",
                        "<!-- Label -->\n",
                        "<span class=\"font-weight-bold\">\n",
                        "                        Parsecs from Earth:\n",
                        "                    </span>\n",
                        "<!-- Value is a string -->\n",
                        "<span>391.038</span>\n",
                        "</div>\n",
                        "</div>\n",
                        "<div class=\"CustomField\">\n",
                        "<div>\n",
                        "<!-- Label -->\n",
                        "<span class=\"font-weight-bold\">\n",
                        "                        Planet Mass:\n",
                        "                    </span>\n",
                        "<!-- Value is a string -->\n",
                        "<span>36 Earths</span>\n",
                        "</div>\n",
                        "</div>\n",
                        "<div class=\"CustomField\">\n",
                        "<div>\n",
                        "<!-- Label -->\n",
                        "<span class=\"font-weight-bold\">\n",
                        "                        Stellar Magnitude:\n",
                        "                    </span>\n",
                        "<!-- Value is a string -->\n",
                        "<span>12.775</span>\n",
                        "</div>\n",
                        "</div>\n",
                        "<div class=\"CustomField\">\n",
                        "<div>\n",
                        "<!-- Label -->\n",
                        "<span class=\"font-weight-bold\">\n",
                        "                        Discovery Date:\n",
                        "                    </span>\n",
                        "<!-- Value is a string -->\n",
                        "<span>2025</span>\n",
                        "</div>\n",
                        "</div>\n",
                        "</div>\n"
                    ]
                }
            ],
            "source": [
                "# all_stellar_magnitude = soup.find_all(\"div\", class_=\"CustomField\")\n",
                "# print(all_stellar_magnitude)\n",
                "#items = soup.find_all('div', class_= 'CustomField')\n",
                "exo_cards = soup.find_all('div', class_='hds-content-item-inner')\n",
                "#print(exo_cards[1])\n",
                "# exo_link = exo_cards.find('a', class_= 'hds-content-item-heading')\n",
                "# exo_name = exo_link.find_next('div')\n",
                "# print(exo_name)\n",
                "\n",
                "indicador = []\n",
                "valor = []\n",
                "\n",
                "# def find_value_and_indicator():\n",
                "#     val_i = tem_d.find('span', string=lambda t: t and 'Stellar Magnitude:' in t)\n",
                "\n",
                "\n",
                "    ##Ciclo for para tomar todos los indicadores\n",
                "for item in exo_cards:\n",
                "    exo_link = item.find('a', class_= 'hds-content-item-heading')\n",
                "    #print(f\"Aquí empieza: {exo_link.find_all_next('span')}\")\n",
                "    exo_name = exo_link.find_next('div')\n",
                "    tem_d = item.find('div', class_=False)\n",
                "    #print(tem_d)\n",
                "    #tem_v = tem_d.find('span', string=lambda t: t and 'Stellar Magnitude:' in t)\n",
                "    # tem_v = tem_d.find('span', class_='font-weight-bold')\n",
                "    # tem_valor = tem_d.find('span', class_=False).text.strip()\n",
                "    #val_sm = tem_d.find('span', string=lambda t: t and 'Stellar Magnitude:' in t)\n",
                "    tag_c = tem_d.find('span', class_=\"font-weight-bold\")\n",
                "    val_name = tag_c.text.strip()\n",
                "    val_value = tag_c.find_next('span').text.strip()\n",
                "    obj = {}\n",
                "    if val_name == 'Stellar Magnitude:':\n",
                "        obj[val_name] = val_value\n",
                "    if val_name == 'Stellar Magnitude:':\n",
                "        obj[val_name] = val_value\n",
                "    # val_pm = tem_v = tem_d.find('span', string=lambda t: t and 'Planet Mass:' in t)\n",
                "    # val_pe = tem_v = tem_d.find('span', string=lambda t: t and 'Parsecs from Earth:' in t)\n",
                "    # val_dd = tem_v = tem_d.find('span', string=lambda t: t and 'Discovery Date:' in t) \n",
                "\n",
                "    # if tem_d and val_sm:\n",
                "    #     team_valor = tem_d.find('span', class_=False).text.strip()\n",
                "    #     valor.append({\n",
                "    #         #\"Name's Exoplanet\" : val.text,\n",
                "    #         val_sm : team_valor,\n",
                "    #         \"Planet Mass\": 0,\n",
                "    #         \"Parsecs from Earth\" : 0, \n",
                "    #         \"Discovery Date\": 0\n",
                "    #     })\n",
                "    \n",
                "    # if tem_v != None:\n",
                "    #     tem_valor = tem_d.find('span', class_=False).text.strip()\n",
                "    #     if tem_valor != 'Unknown':\n",
                "    #         valor.append({\n",
                "    #             \"Name's Exoplanet\" : tem_v.text,\n",
                "    #             \"Stellar Magnitude\" : tem_valor,\n",
                "    #             \"Planet Mass\": 20,\n",
                "    #             \"Parsecs from Earth\" : tem_valor, \n",
                "    #             \"Discovery Date\": 2025\n",
                "    #         })\n",
                "    #     else:\n",
                "    #         valor.append({\n",
                "    #             \"Name's Exoplanet\" : tem_valor,\n",
                "    #             \"Stellar Magnitude\" : 0,\n",
                "    #             \"Planet Mass\": 20,\n",
                "    #             \"Parsecs from Earth\" : tem_valor, \n",
                "    #             \"Discovery Date\": 2025\n",
                "    #         })\n",
                "\n",
                "#print(valor)"
            ]
        },
        {
            "cell_type": "code",
            "execution_count": null,
            "metadata": {},
            "outputs": [],
            "source": [
                "#valor"
            ]
        },
        {
            "cell_type": "code",
            "execution_count": null,
            "metadata": {},
            "outputs": [
                {
                    "data": {
                        "text/plain": [
                            "'Kepler-139 f'"
                        ]
                    },
                    "execution_count": 39,
                    "metadata": {},
                    "output_type": "execute_result"
                }
            ],
            "source": [
                "soup.find_all(\"div\", class_=\"hds-a11y-heading-22\")[1].text"
            ]
        },
        {
            "cell_type": "code",
            "execution_count": null,
            "metadata": {},
            "outputs": [],
            "source": []
        }
    ],
    "metadata": {
        "kernelspec": {
            "display_name": "Python 3",
            "language": "python",
            "name": "python3"
        },
        "language_info": {
            "codemirror_mode": {
                "name": "ipython",
                "version": 3
            },
            "file_extension": ".py",
            "mimetype": "text/x-python",
            "name": "python",
            "nbconvert_exporter": "python",
            "pygments_lexer": "ipython3",
            "version": "3.11.4"
        },
        "orig_nbformat": 4
    },
    "nbformat": 4,
    "nbformat_minor": 2
}
