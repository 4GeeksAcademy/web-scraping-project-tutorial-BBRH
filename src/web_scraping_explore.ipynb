{
    "cells": [
        {
            "cell_type": "markdown",
            "metadata": {},
            "source": [
                "# Web Scraping Explore\n",
                "\n",
                "Se extraera información de una página web dedicada a catalogar exoplanetas:"
            ]
        },
        {
            "cell_type": "markdown",
            "metadata": {},
            "source": [
                "## Paso 1. Se instalan dependencias"
            ]
        },
        {
            "cell_type": "code",
            "execution_count": 127,
            "metadata": {},
            "outputs": [],
            "source": [
                "# Se instalan dependencias\n",
                "import os\n",
                "from bs4 import BeautifulSoup\n",
                "import requests\n",
                "import time\n",
                "import sqlite3\n",
                "import matplotlib.pyplot as plt\n",
                "import seaborn as sns\n",
                "import pandas as pd"
            ]
        },
        {
            "cell_type": "markdown",
            "metadata": {},
            "source": [
                "## Paso 2. Descargar HTML. \n",
                "En este caso, se seleccionó el catalogo de exoplanetas de la NASA:"
            ]
        },
        {
            "cell_type": "code",
            "execution_count": 128,
            "metadata": {},
            "outputs": [],
            "source": [
                "# Seleccionar el recurso a descargar\n",
                "resource_url = \"https://science.nasa.gov/exoplanets/exoplanet-catalog/\"\n",
                "\n",
                "# Petición para descargar el fichero de Internet\n",
                "response = requests.get(resource_url, time.sleep(10))\n",
                "\n",
                "# Si la petición se ha ejecutado correctamente (código 200), entonces el contenido HTML de la página se ha podido descargar\n",
                "if response:\n",
                "    # Transformamos el HTML plano en un HTML real (estructurado y anidado, con forma de árbol)\n",
                "    soup = BeautifulSoup(response.text, 'html')\n",
                "    soup\n"
            ]
        },
        {
            "cell_type": "markdown",
            "metadata": {},
            "source": [
                "Se verifica la respuesta de la petición, en caso de que se ejecute correctamente, se mostrará un código 200:"
            ]
        },
        {
            "cell_type": "code",
            "execution_count": 129,
            "metadata": {},
            "outputs": [
                {
                    "name": "stdout",
                    "output_type": "stream",
                    "text": [
                        "✅ Ejecución correcta: <Response [200]>\n"
                    ]
                }
            ],
            "source": [
                "# Se verifica response\n",
                "print(f'✅ Ejecución correcta: {response}')"
            ]
        },
        {
            "cell_type": "markdown",
            "metadata": {},
            "source": [
                "## Paso 3. Transformación del HTML. \n",
                "Se explora la información y estructura del HTML usando la libreria BeautifulSoup:"
            ]
        },
        {
            "cell_type": "code",
            "execution_count": 130,
            "metadata": {},
            "outputs": [
                {
                    "data": {
                        "text/plain": [
                            "[<div class=\"hds-a11y-heading-22\">TOI-6695 c</div>,\n",
                            " <div class=\"hds-a11y-heading-22\">Kepler-139 f</div>,\n",
                            " <div class=\"hds-a11y-heading-22\">AT2021ueyL b</div>,\n",
                            " <div class=\"hds-a11y-heading-22\">KMT-2017-BLG-2197L b</div>,\n",
                            " <div class=\"hds-a11y-heading-22\">KMT-2022-BLG-2076L b</div>,\n",
                            " <div class=\"hds-a11y-heading-22\">ZTF J1828+2308 b</div>,\n",
                            " <div class=\"hds-a11y-heading-22\">KMT-2022-BLG-1790L b</div>,\n",
                            " <div class=\"hds-a11y-heading-22\">KMT-2023-BLG-2209L b</div>,\n",
                            " <div class=\"hds-a11y-heading-22\">GJ 1289 b</div>,\n",
                            " <div class=\"hds-a11y-heading-22\">TOI-1453 b</div>,\n",
                            " <div class=\"hds-a11y-heading-22\">TOI-1453 c</div>,\n",
                            " <div class=\"hds-a11y-heading-22\">TOI-7041 b</div>,\n",
                            " <div class=\"hds-a11y-heading-22\">TOI-5143 c</div>,\n",
                            " <div class=\"hds-a11y-heading-22\">TOI-4364 b</div>,\n",
                            " <div class=\"hds-a11y-heading-22\">KOI-1843.03</div>]"
                        ]
                    },
                    "execution_count": 130,
                    "metadata": {},
                    "output_type": "execute_result"
                }
            ],
            "source": [
                "# Se encuentran los contenedores de la información\n",
                "soup.find_all(\"div\", class_=\"hds-a11y-heading-22\")"
            ]
        },
        {
            "cell_type": "code",
            "execution_count": 133,
            "metadata": {},
            "outputs": [
                {
                    "name": "stdout",
                    "output_type": "stream",
                    "text": [
                        "[{\"Exoplanet's name:\": 'TOI-6695 c', 'Parsecs from Earth:': '391.038', 'Planet Mass:': '36 Earths', 'Stellar Magnitude:': '12.775', 'Discovery Date:': '2025'}, {\"Exoplanet's name:\": 'Kepler-139 f', 'Parsecs from Earth:': '1040', 'Planet Mass:': '1.34 Jupiters', 'Stellar Magnitude:': 'Unknown', 'Discovery Date:': '2025'}, {\"Exoplanet's name:\": 'AT2021ueyL b', 'Parsecs from Earth:': '7800', 'Planet Mass:': '8.84 Jupiters', 'Stellar Magnitude:': 'Unknown', 'Discovery Date:': '2025'}, {\"Exoplanet's name:\": 'KMT-2017-BLG-2197L b', 'Parsecs from Earth:': '5570', 'Planet Mass:': '0.88 Jupiters', 'Stellar Magnitude:': 'Unknown', 'Discovery Date:': '2025'}, {\"Exoplanet's name:\": 'KMT-2022-BLG-2076L b', 'Parsecs from Earth:': '201.827', 'Planet Mass:': '20 Jupiters', 'Stellar Magnitude:': '18.0447', 'Discovery Date:': '2025'}, {\"Exoplanet's name:\": 'ZTF J1828+2308 b', 'Parsecs from Earth:': '6480', 'Planet Mass:': '1.73 Jupiters', 'Stellar Magnitude:': 'Unknown', 'Discovery Date:': '2025'}, {\"Exoplanet's name:\": 'KMT-2022-BLG-1790L b', 'Parsecs from Earth:': '5570', 'Planet Mass:': '0.8 Jupiters', 'Stellar Magnitude:': 'Unknown', 'Discovery Date:': '2025'}, {\"Exoplanet's name:\": 'KMT-2023-BLG-2209L b', 'Parsecs from Earth:': '8.35147', 'Planet Mass:': '6.27 Earths', 'Stellar Magnitude:': '12.48', 'Discovery Date:': '2024'}, {\"Exoplanet's name:\": 'GJ 1289 b', 'Parsecs from Earth:': '78.7415', 'Planet Mass:': '2.32 Earths', 'Stellar Magnitude:': '11.113', 'Discovery Date:': '2025'}, {\"Exoplanet's name:\": 'TOI-1453 b', 'Parsecs from Earth:': '78.7415', 'Planet Mass:': '2.95 Earths', 'Stellar Magnitude:': '11.113', 'Discovery Date:': '2025'}, {\"Exoplanet's name:\": 'TOI-1453 c', 'Parsecs from Earth:': '439.52', 'Planet Mass:': '0.36 Jupiters', 'Stellar Magnitude:': '11.251', 'Discovery Date:': '2025'}, {\"Exoplanet's name:\": 'TOI-7041 b', 'Parsecs from Earth:': '181.38', 'Planet Mass:': 'Unknown', 'Stellar Magnitude:': '11.935', 'Discovery Date:': '2025'}, {\"Exoplanet's name:\": 'TOI-5143 c', 'Parsecs from Earth:': '43.9662', 'Planet Mass:': '4.7 Earths', 'Stellar Magnitude:': '13.564', 'Discovery Date:': '2025'}, {\"Exoplanet's name:\": 'TOI-4364 b', 'Parsecs from Earth:': '134.311', 'Planet Mass:': '8 Earths', 'Stellar Magnitude:': '15.295', 'Discovery Date:': '2013'}, {\"Exoplanet's name:\": 'KOI-1843.03'}]\n"
                    ]
                }
            ],
            "source": [
                "# Se extrae información de las tag del html\n",
                "exo_cards = soup.find_all('div', class_='hds-content-item content-list-item-exoplanet')\n",
                "data = []\n",
                "for item in exo_cards:\n",
                "    exo_obj = {}\n",
                "    #print(item)\n",
                "    exo_link = item.find('a', class_= 'hds-content-item-heading')\n",
                "    #print(exo_link)\n",
                "    exo_name = exo_link.find_next('div').text.strip()\n",
                "    exo_obj[\"Exoplanet's name:\"] = exo_name\n",
                "    exo_box_field = exo_link.find_all_next('div', class_= 'hds-content-item-inner')\n",
                "    for field in exo_box_field:\n",
                "        exo_all_tags = field.find_all_next('div', class_=\"CustomField\")\n",
                "        for field_tag in exo_all_tags:\n",
                "            #print(field_tag)\n",
                "            exo_tag_field = field_tag.find('span', class_= 'font-weight-bold')\n",
                "            exo_field = exo_tag_field.text.strip()\n",
                "            exo_value = exo_tag_field.find_next('span').text.strip()\n",
                "            # Debido a que se estaba sobreescribiendo de esta forma exo_obj[exo_field] = exo_value. se uso el método .setdefault()\n",
                "            exo_obj.setdefault(exo_field, exo_value)\n",
                "    data.append(exo_obj)\n",
                "print(data)"
            ]
        },
        {
            "cell_type": "markdown",
            "metadata": {},
            "source": [
                "## Paso 4. Procesar el DataFrame"
            ]
        },
        {
            "cell_type": "code",
            "execution_count": 134,
            "metadata": {},
            "outputs": [],
            "source": [
                "# Se transforma el objeto anterior en un DataFrame\n",
                "df = pd.DataFrame(data)"
            ]
        },
        {
            "cell_type": "code",
            "execution_count": 135,
            "metadata": {},
            "outputs": [
                {
                    "data": {
                        "text/html": [
                            "<div>\n",
                            "<style scoped>\n",
                            "    .dataframe tbody tr th:only-of-type {\n",
                            "        vertical-align: middle;\n",
                            "    }\n",
                            "\n",
                            "    .dataframe tbody tr th {\n",
                            "        vertical-align: top;\n",
                            "    }\n",
                            "\n",
                            "    .dataframe thead th {\n",
                            "        text-align: right;\n",
                            "    }\n",
                            "</style>\n",
                            "<table border=\"1\" class=\"dataframe\">\n",
                            "  <thead>\n",
                            "    <tr style=\"text-align: right;\">\n",
                            "      <th></th>\n",
                            "      <th>Exoplanet's name:</th>\n",
                            "      <th>Parsecs from Earth:</th>\n",
                            "      <th>Planet Mass:</th>\n",
                            "      <th>Stellar Magnitude:</th>\n",
                            "      <th>Discovery Date:</th>\n",
                            "    </tr>\n",
                            "  </thead>\n",
                            "  <tbody>\n",
                            "    <tr>\n",
                            "      <th>0</th>\n",
                            "      <td>TOI-6695 c</td>\n",
                            "      <td>391.038</td>\n",
                            "      <td>36 Earths</td>\n",
                            "      <td>12.775</td>\n",
                            "      <td>2025</td>\n",
                            "    </tr>\n",
                            "    <tr>\n",
                            "      <th>1</th>\n",
                            "      <td>Kepler-139 f</td>\n",
                            "      <td>1040</td>\n",
                            "      <td>1.34 Jupiters</td>\n",
                            "      <td>Unknown</td>\n",
                            "      <td>2025</td>\n",
                            "    </tr>\n",
                            "    <tr>\n",
                            "      <th>2</th>\n",
                            "      <td>AT2021ueyL b</td>\n",
                            "      <td>7800</td>\n",
                            "      <td>8.84 Jupiters</td>\n",
                            "      <td>Unknown</td>\n",
                            "      <td>2025</td>\n",
                            "    </tr>\n",
                            "    <tr>\n",
                            "      <th>3</th>\n",
                            "      <td>KMT-2017-BLG-2197L b</td>\n",
                            "      <td>5570</td>\n",
                            "      <td>0.88 Jupiters</td>\n",
                            "      <td>Unknown</td>\n",
                            "      <td>2025</td>\n",
                            "    </tr>\n",
                            "    <tr>\n",
                            "      <th>4</th>\n",
                            "      <td>KMT-2022-BLG-2076L b</td>\n",
                            "      <td>201.827</td>\n",
                            "      <td>20 Jupiters</td>\n",
                            "      <td>18.0447</td>\n",
                            "      <td>2025</td>\n",
                            "    </tr>\n",
                            "  </tbody>\n",
                            "</table>\n",
                            "</div>"
                        ],
                        "text/plain": [
                            "      Exoplanet's name: Parsecs from Earth:   Planet Mass: Stellar Magnitude:  \\\n",
                            "0            TOI-6695 c             391.038      36 Earths             12.775   \n",
                            "1          Kepler-139 f                1040  1.34 Jupiters            Unknown   \n",
                            "2          AT2021ueyL b                7800  8.84 Jupiters            Unknown   \n",
                            "3  KMT-2017-BLG-2197L b                5570  0.88 Jupiters            Unknown   \n",
                            "4  KMT-2022-BLG-2076L b             201.827    20 Jupiters            18.0447   \n",
                            "\n",
                            "  Discovery Date:  \n",
                            "0            2025  \n",
                            "1            2025  \n",
                            "2            2025  \n",
                            "3            2025  \n",
                            "4            2025  "
                        ]
                    },
                    "execution_count": 135,
                    "metadata": {},
                    "output_type": "execute_result"
                }
            ],
            "source": [
                "df.head()"
            ]
        }
    ],
    "metadata": {
        "kernelspec": {
            "display_name": "Python 3",
            "language": "python",
            "name": "python3"
        },
        "language_info": {
            "codemirror_mode": {
                "name": "ipython",
                "version": 3
            },
            "file_extension": ".py",
            "mimetype": "text/x-python",
            "name": "python",
            "nbconvert_exporter": "python",
            "pygments_lexer": "ipython3",
            "version": "3.11.4"
        },
        "orig_nbformat": 4
    },
    "nbformat": 4,
    "nbformat_minor": 2
}
